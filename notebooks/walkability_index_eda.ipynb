{
 "cells": [
  {
   "cell_type": "code",
   "execution_count": 4,
   "metadata": {},
   "outputs": [],
   "source": [
    "import geopandas as gpd"
   ]
  },
  {
   "cell_type": "code",
   "execution_count": null,
   "metadata": {},
   "outputs": [],
   "source": [
    "# file_path = r'data\\WalkabilityIndex\\Natl_WI.gdb'\n",
    "\n",
    "# # Assuming gdf is already defined\n",
    "# gdf = gpd.read_file(file_path)\n",
    "\n",
    "# # Save gdf to .csv\n",
    "# gdf.to_csv(r'data\\WalkabilityIndex\\Natl_WI.csv', index=False)\n",
    "\n",
    "# # Inspect the dataframe\n",
    "# gdf.head(n=1)"
   ]
  },
  {
   "cell_type": "code",
   "execution_count": 5,
   "metadata": {},
   "outputs": [],
   "source": [
    "# Figure out how to import all columns except for the geometry column\n",
    "gdf = gpd.read_file(r'data\\WalkabilityIndex\\Natl_WI.csv')\n",
    "gdf.head(n=1)"
   ]
  },
  {
   "cell_type": "code",
   "execution_count": null,
   "metadata": {},
   "outputs": [],
   "source": [
    "# Calculate the percent Ac_Water/ Ac_Total\n",
    "# From gdf, create a new column called 'percent_water' that is the result of Ac_Water / Ac_Total\n",
    "gdf['percent_water'] = gdf['Ac_Water'] / gdf['Ac_Total']\n",
    "\n",
    "# From gdf, calculate the percent of GEOID20 that are over .9 in the 'percent_water' column\n",
    "percent_over_9 = gdf[gdf['percent_water'] > .9].shape[0] / gdf.shape[0]\n",
    "print(gdf[gdf['percent_water'] > .9].shape[0])\n",
    "print(percent_over_9)"
   ]
  },
  {
   "cell_type": "code",
   "execution_count": null,
   "metadata": {},
   "outputs": [],
   "source": [
    "# Count the GEOID20 per CBSA_Name. Convert to dataframe 'blocks\n",
    "blocks = gdf.groupby('CBSA_Name')['GEOID20'].count().reset_index()\n",
    "\n",
    "# Rename the columns\n",
    "blocks.columns = ['CBSA_Name', 'Count of Blocks']\n",
    "\n",
    "# Sort the values on 'Count of Blocks\n",
    "blocks = blocks.sort_values(by='Count of Blocks', ascending=False)\n",
    "blocks.head()"
   ]
  },
  {
   "cell_type": "code",
   "execution_count": null,
   "metadata": {},
   "outputs": [],
   "source": [
    "# Interesting. the NatWalkIndex is on a scale of 1 to 20, not 0 to 100 like the WalkScore.\n",
    "gdf['NatWalkInd'].describe()"
   ]
  },
  {
   "cell_type": "code",
   "execution_count": null,
   "metadata": {},
   "outputs": [],
   "source": [
    "# Show me the NatWalkIndex for CBSA_Name 'New York-Newark-Jersey City, NY-NJ-PA'\n",
    "nyc_walk = gdf[gdf['CBSA_Name'] == 'New York-Newark-Jersey City, NY-NJ-PA'][['NatWalkInd']].reset_index(drop=True)\n",
    "nyc_walk.describe()"
   ]
  }
 ],
 "metadata": {
  "kernelspec": {
   "display_name": ".venv",
   "language": "python",
   "name": "python3"
  },
  "language_info": {
   "codemirror_mode": {
    "name": "ipython",
    "version": 3
   },
   "file_extension": ".py",
   "mimetype": "text/x-python",
   "name": "python",
   "nbconvert_exporter": "python",
   "pygments_lexer": "ipython3",
   "version": "3.12.0"
  }
 },
 "nbformat": 4,
 "nbformat_minor": 2
}
