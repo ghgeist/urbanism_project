{
 "cells": [
  {
   "cell_type": "code",
   "execution_count": 4,
   "metadata": {},
   "outputs": [],
   "source": [
    "import geopandas as gpd\n",
    "import pandas as pd"
   ]
  },
  {
   "cell_type": "code",
   "execution_count": 2,
   "metadata": {},
   "outputs": [
    {
     "data": {
      "text/html": [
       "<div>\n",
       "<style scoped>\n",
       "    .dataframe tbody tr th:only-of-type {\n",
       "        vertical-align: middle;\n",
       "    }\n",
       "\n",
       "    .dataframe tbody tr th {\n",
       "        vertical-align: top;\n",
       "    }\n",
       "\n",
       "    .dataframe thead th {\n",
       "        text-align: right;\n",
       "    }\n",
       "</style>\n",
       "<table border=\"1\" class=\"dataframe\">\n",
       "  <thead>\n",
       "    <tr style=\"text-align: right;\">\n",
       "      <th></th>\n",
       "      <th>geoid10</th>\n",
       "      <th>geoid20</th>\n",
       "      <th>statefp</th>\n",
       "      <th>countyfp</th>\n",
       "      <th>tractce</th>\n",
       "      <th>blkgrpce</th>\n",
       "      <th>csa</th>\n",
       "      <th>csa_name</th>\n",
       "      <th>cbsa</th>\n",
       "      <th>cbsa_name</th>\n",
       "      <th>...</th>\n",
       "      <th>d2a_ephhm</th>\n",
       "      <th>d3b</th>\n",
       "      <th>d4a</th>\n",
       "      <th>d2a_ranked</th>\n",
       "      <th>d2b_ranked</th>\n",
       "      <th>d3b_ranked</th>\n",
       "      <th>d4a_ranked</th>\n",
       "      <th>natwalkind</th>\n",
       "      <th>shape_length</th>\n",
       "      <th>shape_area</th>\n",
       "    </tr>\n",
       "  </thead>\n",
       "  <tbody>\n",
       "    <tr>\n",
       "      <th>0</th>\n",
       "      <td>481130078254</td>\n",
       "      <td>481130078254</td>\n",
       "      <td>48</td>\n",
       "      <td>113</td>\n",
       "      <td>007825</td>\n",
       "      <td>4</td>\n",
       "      <td>206</td>\n",
       "      <td>Dallas-Fort Worth, TX-OK</td>\n",
       "      <td>19100</td>\n",
       "      <td>Dallas-Fort Worth-Arlington, TX</td>\n",
       "      <td>...</td>\n",
       "      <td>0.3489115991250832</td>\n",
       "      <td>115.98174732685919</td>\n",
       "      <td>362.1</td>\n",
       "      <td>6.0</td>\n",
       "      <td>14.0</td>\n",
       "      <td>15.0</td>\n",
       "      <td>17.0</td>\n",
       "      <td>14.0</td>\n",
       "      <td>3110.3608200467233</td>\n",
       "      <td>297836.0830901631</td>\n",
       "    </tr>\n",
       "  </tbody>\n",
       "</table>\n",
       "<p>1 rows × 29 columns</p>\n",
       "</div>"
      ],
      "text/plain": [
       "        geoid10       geoid20 statefp countyfp tractce blkgrpce  csa  \\\n",
       "0  481130078254  481130078254      48      113  007825        4  206   \n",
       "\n",
       "                   csa_name   cbsa                        cbsa_name  ...  \\\n",
       "0  Dallas-Fort Worth, TX-OK  19100  Dallas-Fort Worth-Arlington, TX  ...   \n",
       "\n",
       "            d2a_ephhm                 d3b    d4a d2a_ranked d2b_ranked  \\\n",
       "0  0.3489115991250832  115.98174732685919  362.1        6.0       14.0   \n",
       "\n",
       "  d3b_ranked d4a_ranked natwalkind        shape_length         shape_area  \n",
       "0       15.0       17.0       14.0  3110.3608200467233  297836.0830901631  \n",
       "\n",
       "[1 rows x 29 columns]"
      ]
     },
     "execution_count": 2,
     "metadata": {},
     "output_type": "execute_result"
    }
   ],
   "source": [
    "# Import data\\WalkabilityIndex\\Natl_WI_no_geometry.csv\n",
    "gdf = gpd.read_file('data/WalkabilityIndex/Natl_WI_no_geometry.csv')\n",
    "\n",
    "#make all the column headers lowercase\n",
    "gdf.columns = map(str.lower, gdf.columns)\n",
    "gdf.head(n=1)"
   ]
  },
  {
   "cell_type": "code",
   "execution_count": 8,
   "metadata": {},
   "outputs": [
    {
     "data": {
      "text/html": [
       "<div>\n",
       "<style scoped>\n",
       "    .dataframe tbody tr th:only-of-type {\n",
       "        vertical-align: middle;\n",
       "    }\n",
       "\n",
       "    .dataframe tbody tr th {\n",
       "        vertical-align: top;\n",
       "    }\n",
       "\n",
       "    .dataframe thead th {\n",
       "        text-align: right;\n",
       "    }\n",
       "</style>\n",
       "<table border=\"1\" class=\"dataframe\">\n",
       "  <thead>\n",
       "    <tr style=\"text-align: right;\">\n",
       "      <th></th>\n",
       "      <th>d3b</th>\n",
       "      <th>d4a</th>\n",
       "      <th>d2b_e8mixa</th>\n",
       "      <th>d2a_ephhm</th>\n",
       "      <th>natwalkind</th>\n",
       "    </tr>\n",
       "  </thead>\n",
       "  <tbody>\n",
       "    <tr>\n",
       "      <th>count</th>\n",
       "      <td>131264</td>\n",
       "      <td>131264</td>\n",
       "      <td>131264</td>\n",
       "      <td>131264</td>\n",
       "      <td>131264</td>\n",
       "    </tr>\n",
       "    <tr>\n",
       "      <th>unique</th>\n",
       "      <td>130851</td>\n",
       "      <td>892</td>\n",
       "      <td>113294</td>\n",
       "      <td>128518</td>\n",
       "      <td>242</td>\n",
       "    </tr>\n",
       "    <tr>\n",
       "      <th>top</th>\n",
       "      <td>0.0</td>\n",
       "      <td>-99999.0</td>\n",
       "      <td>-0.0</td>\n",
       "      <td>0.0</td>\n",
       "      <td>5.333333333333333</td>\n",
       "    </tr>\n",
       "    <tr>\n",
       "      <th>freq</th>\n",
       "      <td>405</td>\n",
       "      <td>73574</td>\n",
       "      <td>4419</td>\n",
       "      <td>1367</td>\n",
       "      <td>1668</td>\n",
       "    </tr>\n",
       "  </tbody>\n",
       "</table>\n",
       "</div>"
      ],
      "text/plain": [
       "           d3b       d4a d2b_e8mixa d2a_ephhm         natwalkind\n",
       "count   131264    131264     131264    131264             131264\n",
       "unique  130851       892     113294    128518                242\n",
       "top        0.0  -99999.0       -0.0       0.0  5.333333333333333\n",
       "freq       405     73574       4419      1367               1668"
      ]
     },
     "execution_count": 8,
     "metadata": {},
     "output_type": "execute_result"
    }
   ],
   "source": [
    "#MAybe it makes sense to create a dictionary here with the definitions to make things easier?\n",
    "raw_stats = [\"d2a_ephhm\",\"d2b_e8mixa\", \"d3b\", \"d4a\"]\n",
    "ranked_states = [\"d2a_ranked\",\"d2b_ranked\", \"d3b_ranked\", \"d4a_ranked\"]\n"
   ]
  },
  {
   "cell_type": "code",
   "execution_count": 9,
   "metadata": {},
   "outputs": [
    {
     "data": {
      "text/plain": [
       "count     131264\n",
       "unique    130851\n",
       "top          0.0\n",
       "freq         405\n",
       "Name: d3b, dtype: object"
      ]
     },
     "execution_count": 9,
     "metadata": {},
     "output_type": "execute_result"
    }
   ],
   "source": [
    "gdf['d3b'].describe()"
   ]
  },
  {
   "cell_type": "code",
   "execution_count": null,
   "metadata": {},
   "outputs": [],
   "source": []
  }
 ],
 "metadata": {
  "kernelspec": {
   "display_name": ".venv",
   "language": "python",
   "name": "python3"
  },
  "language_info": {
   "codemirror_mode": {
    "name": "ipython",
    "version": 3
   },
   "file_extension": ".py",
   "mimetype": "text/x-python",
   "name": "python",
   "nbconvert_exporter": "python",
   "pygments_lexer": "ipython3",
   "version": "3.12.0"
  }
 },
 "nbformat": 4,
 "nbformat_minor": 2
}
