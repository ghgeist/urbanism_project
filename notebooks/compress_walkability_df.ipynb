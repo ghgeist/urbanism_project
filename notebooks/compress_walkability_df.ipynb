{
 "cells": [
  {
   "cell_type": "code",
   "execution_count": null,
   "metadata": {},
   "outputs": [],
   "source": [
    "# Problem: The raw walkability data is ~1.4 GB. The Neon Postgres DB free tier only allows for ~500 MB. \n",
    "# The geometry is what is taking up most of the space. The file without the geometry is ~40 MB\n",
    "# Challenge: Figure out how to reduce the size of the data to fit into the DB.\n",
    "\n",
    "## The CRS needs to be 4326!!!"
   ]
  },
  {
   "cell_type": "code",
   "execution_count": 2,
   "metadata": {},
   "outputs": [],
   "source": [
    "import geopandas as gpd\n",
    "from shapely import wkt\n",
    "import pandas as pd\n",
    "from joblib import Parallel, delayed\n",
    "import os"
   ]
  },
  {
   "cell_type": "markdown",
   "metadata": {},
   "source": [
    "# Convert the .gdb to .csv"
   ]
  },
  {
   "cell_type": "code",
   "execution_count": 3,
   "metadata": {},
   "outputs": [
    {
     "name": "stdout",
     "output_type": "stream",
     "text": [
      "Reading the file from: data\\WalkabilityIndex\\Natl_WI.gdb\n",
      "File read successfully.\n",
      "The CRS of the GeoDataFrame is: PROJCS[\"USA_Contiguous_Albers_Equal_Area_Conic_USGS_version\",GEOGCS[\"NAD83\",DATUM[\"North_American_Datum_1983\",SPHEROID[\"GRS 1980\",6378137,298.257222101,AUTHORITY[\"EPSG\",\"7019\"]],AUTHORITY[\"EPSG\",\"6269\"]],PRIMEM[\"Greenwich\",0,AUTHORITY[\"EPSG\",\"8901\"]],UNIT[\"degree\",0.0174532925199433,AUTHORITY[\"EPSG\",\"9122\"]],AUTHORITY[\"EPSG\",\"4269\"]],PROJECTION[\"Albers_Conic_Equal_Area\"],PARAMETER[\"latitude_of_center\",23],PARAMETER[\"longitude_of_center\",-96],PARAMETER[\"standard_parallel_1\",29.5],PARAMETER[\"standard_parallel_2\",45.5],PARAMETER[\"false_easting\",0],PARAMETER[\"false_northing\",0],UNIT[\"metre\",1,AUTHORITY[\"EPSG\",\"9001\"]],AXIS[\"Easting\",EAST],AXIS[\"Northing\",NORTH],AUTHORITY[\"ESRI\",\"102039\"]]\n",
      "CRS transformed to EPSG:4326.\n"
     ]
    },
    {
     "name": "stderr",
     "output_type": "stream",
     "text": [
      "C:\\Users\\grant\\AppData\\Local\\Temp\\ipykernel_9000\\2408063383.py:26: UserWarning: Geometry column does not contain geometry.\n",
      "  gdf['geometry'] = gdf['geometry'].apply(lambda geom: geom.wkt)\n"
     ]
    },
    {
     "name": "stdout",
     "output_type": "stream",
     "text": [
      "Saving GeoDataFrame to CSV with geometry in WKT format at: data\\WalkabilityIndex\\Natl_WI.csv\n",
      "GeoDataFrame saved to CSV with geometry in WKT format.\n"
     ]
    },
    {
     "data": {
      "text/html": [
       "<div>\n",
       "<style scoped>\n",
       "    .dataframe tbody tr th:only-of-type {\n",
       "        vertical-align: middle;\n",
       "    }\n",
       "\n",
       "    .dataframe tbody tr th {\n",
       "        vertical-align: top;\n",
       "    }\n",
       "\n",
       "    .dataframe thead th {\n",
       "        text-align: right;\n",
       "    }\n",
       "</style>\n",
       "<table border=\"1\" class=\"dataframe\">\n",
       "  <thead>\n",
       "    <tr style=\"text-align: right;\">\n",
       "      <th></th>\n",
       "      <th>geoid10</th>\n",
       "      <th>geoid20</th>\n",
       "      <th>statefp</th>\n",
       "      <th>countyfp</th>\n",
       "      <th>tractce</th>\n",
       "      <th>blkgrpce</th>\n",
       "      <th>csa</th>\n",
       "      <th>csa_name</th>\n",
       "      <th>cbsa</th>\n",
       "      <th>cbsa_name</th>\n",
       "      <th>...</th>\n",
       "      <th>d3b</th>\n",
       "      <th>d4a</th>\n",
       "      <th>d2a_ranked</th>\n",
       "      <th>d2b_ranked</th>\n",
       "      <th>d3b_ranked</th>\n",
       "      <th>d4a_ranked</th>\n",
       "      <th>natwalkind</th>\n",
       "      <th>shape_length</th>\n",
       "      <th>shape_area</th>\n",
       "      <th>geometry</th>\n",
       "    </tr>\n",
       "  </thead>\n",
       "  <tbody>\n",
       "    <tr>\n",
       "      <th>0</th>\n",
       "      <td>481130078254</td>\n",
       "      <td>481130078254</td>\n",
       "      <td>48</td>\n",
       "      <td>113</td>\n",
       "      <td>007825</td>\n",
       "      <td>4</td>\n",
       "      <td>206</td>\n",
       "      <td>Dallas-Fort Worth, TX-OK</td>\n",
       "      <td>19100</td>\n",
       "      <td>Dallas-Fort Worth-Arlington, TX</td>\n",
       "      <td>...</td>\n",
       "      <td>115.981747</td>\n",
       "      <td>362.1</td>\n",
       "      <td>6.0</td>\n",
       "      <td>14.0</td>\n",
       "      <td>15.0</td>\n",
       "      <td>17.0</td>\n",
       "      <td>14.0</td>\n",
       "      <td>3110.36082</td>\n",
       "      <td>297836.08309</td>\n",
       "      <td>MULTIPOLYGON (((-96.74178100024956 32.89033799...</td>\n",
       "    </tr>\n",
       "  </tbody>\n",
       "</table>\n",
       "<p>1 rows × 30 columns</p>\n",
       "</div>"
      ],
      "text/plain": [
       "        geoid10       geoid20 statefp countyfp tractce blkgrpce  csa  \\\n",
       "0  481130078254  481130078254      48      113  007825        4  206   \n",
       "\n",
       "                   csa_name   cbsa                        cbsa_name  ...  \\\n",
       "0  Dallas-Fort Worth, TX-OK  19100  Dallas-Fort Worth-Arlington, TX  ...   \n",
       "\n",
       "          d3b    d4a  d2a_ranked  d2b_ranked  d3b_ranked  d4a_ranked  \\\n",
       "0  115.981747  362.1         6.0        14.0        15.0        17.0   \n",
       "\n",
       "   natwalkind  shape_length    shape_area  \\\n",
       "0        14.0    3110.36082  297836.08309   \n",
       "\n",
       "                                            geometry  \n",
       "0  MULTIPOLYGON (((-96.74178100024956 32.89033799...  \n",
       "\n",
       "[1 rows x 30 columns]"
      ]
     },
     "execution_count": 3,
     "metadata": {},
     "output_type": "execute_result"
    }
   ],
   "source": [
    "## This is working. Will probably need to move this elsewhere\n",
    "file_path = r'data\\WalkabilityIndex\\Natl_WI.gdb' # This data is in NAD83 (EPSG:4269)\n",
    "\n",
    "print(\"Reading the file from:\", file_path)\n",
    "gdf = gpd.read_file(file_path)\n",
    "print(\"File read successfully.\")\n",
    "\n",
    "# Convert all column names to lowercase\n",
    "gdf.columns = [col.lower() for col in gdf.columns]\n",
    "\n",
    "# Detect and print the CRS\n",
    "if gdf.crs:\n",
    "    print(\"The CRS of the GeoDataFrame is:\", gdf.crs)\n",
    "else:\n",
    "    print(\"The GeoDataFrame does not have a CRS.\")\n",
    "\n",
    "# Converting to EPSG:4326 because this is what we need for geographic coordinates\n",
    "if gdf.crs and gdf.crs.to_epsg() != 4326:\n",
    "    gdf = gdf.to_crs(epsg=4326)\n",
    "    print(\"CRS transformed to EPSG:4326.\")\n",
    "else:\n",
    "    gdf.set_crs(epsg=4326, allow_override=True)\n",
    "    print(\"CRS set to EPSG:4326.\")\n",
    "\n",
    "# Convert geometries to WKT format\n",
    "gdf['geometry'] = gdf['geometry'].apply(lambda geom: geom.wkt)\n",
    "\n",
    "csv_path_with_geometry = r'data\\WalkabilityIndex\\Natl_WI.csv'\n",
    "print(\"Saving GeoDataFrame to CSV with geometry in WKT format at:\", csv_path_with_geometry)\n",
    "gdf.to_csv(csv_path_with_geometry, index=False)\n",
    "print(\"GeoDataFrame saved to CSV with geometry in WKT format.\")\n",
    "\n",
    "gdf.head(n=1)"
   ]
  },
  {
   "cell_type": "markdown",
   "metadata": {},
   "source": [
    "# Simplify Geometry"
   ]
  },
  {
   "cell_type": "code",
   "execution_count": 20,
   "metadata": {},
   "outputs": [
    {
     "name": "stdout",
     "output_type": "stream",
     "text": [
      "Memory usage before simplification: 76.50 MB\n",
      "Memory usage after simplification: 76.50 MB\n"
     ]
    },
    {
     "name": "stderr",
     "output_type": "stream",
     "text": [
      "C:\\Users\\grant\\AppData\\Local\\Temp\\ipykernel_9000\\2031908018.py:20: UserWarning: Geometry column does not contain geometry.\n",
      "  gdf['geometry'] = gdf['geometry'].apply(lambda geom: geom.wkt)\n"
     ]
    },
    {
     "name": "stdout",
     "output_type": "stream",
     "text": [
      "Original file size: 2550.96 MB\n",
      "Simplified file size: 386.80 MB\n"
     ]
    }
   ],
   "source": [
    "## This works\n",
    "# Load the walkability data using pandas\n",
    "df = pd.read_csv(r'data\\WalkabilityIndex\\Natl_WI.csv')\n",
    "\n",
    "# Convert the DataFrame to a GeoDataFrame and set the CRS to EPSG:4326\n",
    "gdf = gpd.GeoDataFrame(df, geometry=df['geometry'].apply(wkt.loads), crs='EPSG:4326')\n",
    "\n",
    "print(f\"Memory usage before simplification: {gdf.memory_usage(deep=True).sum() / 1024 ** 2:.2f} MB\")\n",
    "\n",
    "# Function to simplify geometry\n",
    "def simplify_geometry(geom):\n",
    "    return geom.simplify(0.0002, preserve_topology=True)\n",
    "\n",
    "# Simplify the geometries using parallel processing\n",
    "gdf['geometry'] = Parallel(n_jobs=-2)(delayed(simplify_geometry)(geom) for geom in gdf['geometry'])\n",
    "\n",
    "print(f\"Memory usage after simplification: {gdf.memory_usage(deep=True).sum() / 1024 ** 2:.2f} MB\")\n",
    "\n",
    "# Convert geometries to WKT and save to CSV\n",
    "gdf['geometry'] = gdf['geometry'].apply(lambda geom: geom.wkt)\n",
    "gdf.to_csv(r'data\\WalkabilityIndex\\Natl_WI_simplified.csv', index=False)\n",
    "\n",
    "# Print file sizes\n",
    "original_file_size = os.path.getsize(r'data\\WalkabilityIndex\\Natl_WI.csv') / 1024 ** 2\n",
    "simplified_file_size = os.path.getsize(r'data\\WalkabilityIndex\\Natl_WI_simplified.csv') / 1024 ** 2\n",
    "\n",
    "print(f\"Original file size: {original_file_size:.2f} MB\")\n",
    "print(f\"Simplified file size: {simplified_file_size:.2f} MB\")"
   ]
  },
  {
   "cell_type": "markdown",
   "metadata": {},
   "source": [
    "# Drop rows with no CSBA Name\n",
    "Doing this to save memory and space. For v1, we're just interested in places that are part of a CBSA."
   ]
  },
  {
   "cell_type": "code",
   "execution_count": 21,
   "metadata": {},
   "outputs": [
    {
     "name": "stdout",
     "output_type": "stream",
     "text": [
      "Memory usage before saving: 73.35 MB\n"
     ]
    },
    {
     "name": "stderr",
     "output_type": "stream",
     "text": [
      "C:\\Users\\grant\\AppData\\Local\\Temp\\ipykernel_9000\\3833980465.py:16: UserWarning: Geometry column does not contain geometry.\n",
      "  gdf['geometry'] = gdf['geometry'].apply(lambda geom: geom.wkt)\n"
     ]
    },
    {
     "name": "stdout",
     "output_type": "stream",
     "text": [
      "Memory usage after saving: 322.85 MB\n",
      "Original file size: 386.80 MB\n",
      "Simplified file size: 301.93 MB\n"
     ]
    }
   ],
   "source": [
    "# Load the walkability data using pandas\n",
    "input_path = r'data\\WalkabilityIndex\\Natl_WI_simplified.csv'\n",
    "df = pd.read_csv(input_path)\n",
    "\n",
    "# Drop rows where cbsa_name is null\n",
    "df = df.dropna(subset=['cbsa_name'])\n",
    "\n",
    "# Convert the DataFrame to a GeoDataFrame\n",
    "gdf = gpd.GeoDataFrame(df, geometry=df['geometry'].apply(wkt.loads), crs='EPSG:4326')\n",
    "\n",
    "# Print memory usage before saving\n",
    "print(f\"Memory usage before saving: {gdf.memory_usage(deep=True).sum() / 1024 ** 2:.2f} MB\")\n",
    "\n",
    "# Convert geometries to WKT and save to CSV\n",
    "output_path = r'data\\WalkabilityIndex\\Natl_WI_simplified_drop_cols.csv'\n",
    "gdf['geometry'] = gdf['geometry'].apply(lambda geom: geom.wkt)\n",
    "gdf.to_csv(output_path, index=False)\n",
    "\n",
    "# Print memory usage after saving\n",
    "print(f\"Memory usage after saving: {gdf.memory_usage(deep=True).sum() / 1024 ** 2:.2f} MB\")\n",
    "\n",
    "# Print file sizes\n",
    "original_file_size = os.path.getsize(input_path) / 1024 ** 2\n",
    "simplified_file_size = os.path.getsize(output_path) / 1024 ** 2\n",
    "\n",
    "print(f\"Original file size: {original_file_size:.2f} MB\")\n",
    "print(f\"Simplified file size: {simplified_file_size:.2f} MB\")"
   ]
  },
  {
   "cell_type": "markdown",
   "metadata": {},
   "source": [
    "# Optimize PG Column Data Types"
   ]
  },
  {
   "cell_type": "code",
   "execution_count": 22,
   "metadata": {},
   "outputs": [
    {
     "name": "stdout",
     "output_type": "stream",
     "text": [
      "Minimum length of geoid20: 11\n",
      "Maximum length of geoid20: 12\n"
     ]
    },
    {
     "name": "stderr",
     "output_type": "stream",
     "text": [
      "C:\\Users\\grant\\AppData\\Local\\Temp\\ipykernel_9000\\3980245470.py:2: FutureWarning: Setting an item of incompatible dtype is deprecated and will raise in a future error of pandas. Value '['481130078254' '481130078252' '481130078253' ... '720210312021'\n",
      " '720531504003' '720531501044']' has dtype incompatible with int64, please explicitly cast to a compatible dtype first.\n",
      "  gdf.loc[:, 'geoid20'] = gdf['geoid20'].astype(str)\n"
     ]
    }
   ],
   "source": [
    "# Ensure the geoid20 column is treated as strings\n",
    "gdf.loc[:, 'geoid20'] = gdf['geoid20'].astype(str)\n",
    "\n",
    "# Calculate the minimum and maximum length of the geoid20 column\n",
    "min_length = gdf['geoid20'].str.len().min()\n",
    "max_length = gdf['geoid20'].str.len().max()\n",
    "\n",
    "print(f\"Minimum length of geoid20: {min_length}\")\n",
    "print(f\"Maximum length of geoid20: {max_length}\")"
   ]
  },
  {
   "cell_type": "code",
   "execution_count": 23,
   "metadata": {},
   "outputs": [
    {
     "name": "stdout",
     "output_type": "stream",
     "text": [
      "Minimum natwalkind: 1.0\n",
      "Maximum natwalkind: 20.0\n"
     ]
    }
   ],
   "source": [
    "min_value = gdf['natwalkind'].min()\n",
    "max_value = gdf['natwalkind'].max()\n",
    "print(f\"Minimum natwalkind: {min_value}\")\n",
    "print(f\"Maximum natwalkind: {max_value}\")"
   ]
  },
  {
   "cell_type": "code",
   "execution_count": 24,
   "metadata": {},
   "outputs": [
    {
     "name": "stdout",
     "output_type": "stream",
     "text": [
      "Minimum d2a_ranked: 1.00\n",
      "Maximum d2a_ranked: 20.00\n",
      "Minimum d2b_ranked: 1.00\n",
      "Maximum d2b_ranked: 20.00\n",
      "Minimum d3b_ranked: 1.00\n",
      "Maximum d3b_ranked: 20.00\n",
      "Minimum d4a_ranked: 1.00\n",
      "Maximum d4a_ranked: 20.00\n"
     ]
    }
   ],
   "source": [
    "# Given that we need to keep the database under ~500 MB, it might make sense to use the ranked values in the database\n",
    "ranked_states = [\"d2a_ranked\",\"d2b_ranked\", \"d3b_ranked\", \"d4a_ranked\"]\n",
    "\n",
    "for column in ranked_states:\n",
    "    min_value = gdf[column].min()\n",
    "    max_value = gdf[column].max()\n",
    "    print(f\"Minimum {column}: {min_value:.2f}\")\n",
    "    print(f\"Maximum {column}: {max_value:.2f}\")\n"
   ]
  },
  {
   "cell_type": "markdown",
   "metadata": {},
   "source": [
    "# Estimate PG Database Size"
   ]
  },
  {
   "cell_type": "code",
   "execution_count": 25,
   "metadata": {},
   "outputs": [],
   "source": [
    "# This results in a pretty good estimate of the database. \n",
    "def calculate_data_sizes(df):\n",
    "    # Specify the columns in the dataframe\n",
    "    columns = ['geoid20', 'natwalkind', 'geometry']\n",
    "    df = df.loc[:, columns]  # Use .loc to avoid SettingWithCopyWarning\n",
    "    total_rows = len(df)\n",
    "    \n",
    "    # Convert the geometry column to Shapely objects\n",
    "    df.loc[:, 'geometry'] = df['geometry'].apply(wkt.loads)\n",
    "    \n",
    "    # Calculate actual average size of each column\n",
    "    geoid20_size_bytes = df['geoid20'].apply(lambda x: len(str(x).encode('utf-8'))).mean()\n",
    "    geoid20_size_mb = geoid20_size_bytes / (1024 * 1024)\n",
    "    \n",
    "    natwalkind_size_bytes = df['natwalkind'].apply(lambda x: 4).mean()  # NUMERIC(4, 2) is 4 bytes\n",
    "    natwalkind_size_mb = natwalkind_size_bytes / (1024 * 1024)\n",
    "    \n",
    "    # For geometry, we need to load it as a GeoDataFrame to calculate the actual size\n",
    "    gdf = gpd.GeoDataFrame(df, geometry='geometry')\n",
    "    \n",
    "    # Set the initial CRS (assuming the initial CRS is EPSG:4326, change if different)\n",
    "    gdf.set_crs(epsg=4326, inplace=True)\n",
    "    \n",
    "    # Calculate the average size of the geometries in bytes\n",
    "    geometry_size_bytes = gdf['geometry'].apply(lambda x: len(x.wkb)).mean()\n",
    "    geometry_size_mb = geometry_size_bytes / (1024 * 1024)\n",
    "    \n",
    "    # Calculate size per row\n",
    "    size_per_row_mb = geoid20_size_mb + natwalkind_size_mb + geometry_size_mb\n",
    "    \n",
    "    # Calculate total data size (in MB)\n",
    "    total_data_size_mb = size_per_row_mb * total_rows\n",
    "    \n",
    "    # Estimate index size (25% of data size)\n",
    "    index_size_mb = total_data_size_mb * 0.25\n",
    "    \n",
    "    # Estimate overhead (10% of data size)\n",
    "    overhead_mb = total_data_size_mb * 0.10\n",
    "    \n",
    "    # Total estimated database size\n",
    "    total_db_size_mb = total_data_size_mb + index_size_mb + overhead_mb\n",
    "    \n",
    "    # Create a DataFrame with the results\n",
    "    results = pd.DataFrame({\n",
    "        'Metric': [\n",
    "            'Total rows',\n",
    "            'Average geoid20 size (MB)',\n",
    "            'Average natwalkind size (MB)',\n",
    "            'Average geometry size (MB)',\n",
    "            'Estimated total data size (MB)',\n",
    "            'Estimated total index size (MB)',\n",
    "            'Estimated total overhead (MB)',\n",
    "            'Estimated database size (MB)'\n",
    "        ],\n",
    "        'Value': [\n",
    "            total_rows,\n",
    "            geoid20_size_mb,\n",
    "            natwalkind_size_mb,\n",
    "            geometry_size_mb,\n",
    "            total_data_size_mb,\n",
    "            index_size_mb,\n",
    "            overhead_mb,\n",
    "            total_db_size_mb\n",
    "        ]\n",
    "    })\n",
    "    \n",
    "    return results"
   ]
  },
  {
   "cell_type": "code",
   "execution_count": 26,
   "metadata": {},
   "outputs": [],
   "source": [
    "# Call the function\n",
    "filepath_1 = r'data\\WalkabilityIndex\\Natl_WI_simplified.csv'\n",
    "filepath_2 = r'data\\WalkabilityIndex\\Natl_WI_simplified_drop_cols.csv'\n",
    "\n",
    "df1 = pd.read_csv(filepath_1)\n",
    "results_df1 = calculate_data_sizes(df1)\n",
    "\n",
    "df2 = pd.read_csv(filepath_2)\n",
    "results_df2 = calculate_data_sizes(df2)"
   ]
  },
  {
   "cell_type": "code",
   "execution_count": 27,
   "metadata": {},
   "outputs": [
    {
     "data": {
      "text/html": [
       "<div>\n",
       "<style scoped>\n",
       "    .dataframe tbody tr th:only-of-type {\n",
       "        vertical-align: middle;\n",
       "    }\n",
       "\n",
       "    .dataframe tbody tr th {\n",
       "        vertical-align: top;\n",
       "    }\n",
       "\n",
       "    .dataframe thead th {\n",
       "        text-align: right;\n",
       "    }\n",
       "</style>\n",
       "<table border=\"1\" class=\"dataframe\">\n",
       "  <thead>\n",
       "    <tr style=\"text-align: right;\">\n",
       "      <th></th>\n",
       "      <th>Metric</th>\n",
       "      <th>Simplified df</th>\n",
       "      <th>Simplified df, dropped cols</th>\n",
       "      <th>Percent Change</th>\n",
       "    </tr>\n",
       "  </thead>\n",
       "  <tbody>\n",
       "    <tr>\n",
       "      <th>0</th>\n",
       "      <td>Total rows</td>\n",
       "      <td>220739.000000</td>\n",
       "      <td>203645.000000</td>\n",
       "      <td>-7.74</td>\n",
       "    </tr>\n",
       "    <tr>\n",
       "      <th>1</th>\n",
       "      <td>Average geoid20 size (MB)</td>\n",
       "      <td>0.000011</td>\n",
       "      <td>0.000011</td>\n",
       "      <td>-0.06</td>\n",
       "    </tr>\n",
       "    <tr>\n",
       "      <th>2</th>\n",
       "      <td>Average natwalkind size (MB)</td>\n",
       "      <td>0.000004</td>\n",
       "      <td>0.000004</td>\n",
       "      <td>0.00</td>\n",
       "    </tr>\n",
       "    <tr>\n",
       "      <th>3</th>\n",
       "      <td>Average geometry size (MB)</td>\n",
       "      <td>0.000617</td>\n",
       "      <td>0.000503</td>\n",
       "      <td>-18.49</td>\n",
       "    </tr>\n",
       "    <tr>\n",
       "      <th>4</th>\n",
       "      <td>Estimated total data size (MB)</td>\n",
       "      <td>139.577964</td>\n",
       "      <td>105.527562</td>\n",
       "      <td>-24.40</td>\n",
       "    </tr>\n",
       "    <tr>\n",
       "      <th>5</th>\n",
       "      <td>Estimated total index size (MB)</td>\n",
       "      <td>34.894491</td>\n",
       "      <td>26.381891</td>\n",
       "      <td>-24.40</td>\n",
       "    </tr>\n",
       "    <tr>\n",
       "      <th>6</th>\n",
       "      <td>Estimated total overhead (MB)</td>\n",
       "      <td>13.957796</td>\n",
       "      <td>10.552756</td>\n",
       "      <td>-24.40</td>\n",
       "    </tr>\n",
       "    <tr>\n",
       "      <th>7</th>\n",
       "      <td>Estimated database size (MB)</td>\n",
       "      <td>188.430251</td>\n",
       "      <td>142.462209</td>\n",
       "      <td>-24.40</td>\n",
       "    </tr>\n",
       "  </tbody>\n",
       "</table>\n",
       "</div>"
      ],
      "text/plain": [
       "                            Metric  Simplified df  \\\n",
       "0                       Total rows  220739.000000   \n",
       "1        Average geoid20 size (MB)       0.000011   \n",
       "2     Average natwalkind size (MB)       0.000004   \n",
       "3       Average geometry size (MB)       0.000617   \n",
       "4   Estimated total data size (MB)     139.577964   \n",
       "5  Estimated total index size (MB)      34.894491   \n",
       "6    Estimated total overhead (MB)      13.957796   \n",
       "7     Estimated database size (MB)     188.430251   \n",
       "\n",
       "   Simplified df, dropped cols  Percent Change  \n",
       "0                203645.000000           -7.74  \n",
       "1                     0.000011           -0.06  \n",
       "2                     0.000004            0.00  \n",
       "3                     0.000503          -18.49  \n",
       "4                   105.527562          -24.40  \n",
       "5                    26.381891          -24.40  \n",
       "6                    10.552756          -24.40  \n",
       "7                   142.462209          -24.40  "
      ]
     },
     "execution_count": 27,
     "metadata": {},
     "output_type": "execute_result"
    }
   ],
   "source": [
    "# Merge the results for comparison\n",
    "comparison_df = results_df1.merge(results_df2, on='Metric', suffixes=('_file1', '_file2'))\n",
    "\n",
    "# Add a column for percent change\n",
    "comparison_df['Percent Change'] = round(((comparison_df['Value_file2'] - comparison_df['Value_file1']) / comparison_df['Value_file1']) * 100, 2)\n",
    "\n",
    "# Rename the columns\n",
    "comparison_df.columns = ['Metric', 'Simplified df', 'Simplified df, dropped cols', 'Percent Change']\n",
    "\n",
    "# Save the comparison to a CSV file\n",
    "comparison_df.to_csv(r'data\\db_compression_results\\geometry_simplification_and_column_drop.csv', index=False)\n",
    "comparison_df"
   ]
  },
  {
   "cell_type": "markdown",
   "metadata": {},
   "source": [
    "With a compression of .0002, the database in neon is 152 MB. The estimate was 142 MB"
   ]
  },
  {
   "cell_type": "code",
   "execution_count": null,
   "metadata": {},
   "outputs": [],
   "source": []
  }
 ],
 "metadata": {
  "kernelspec": {
   "display_name": ".venv",
   "language": "python",
   "name": "python3"
  },
  "language_info": {
   "codemirror_mode": {
    "name": "ipython",
    "version": 3
   },
   "file_extension": ".py",
   "mimetype": "text/x-python",
   "name": "python",
   "nbconvert_exporter": "python",
   "pygments_lexer": "ipython3",
   "version": "3.12.0"
  }
 },
 "nbformat": 4,
 "nbformat_minor": 2
}
