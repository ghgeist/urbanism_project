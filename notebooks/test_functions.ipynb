{
 "cells": [
  {
   "cell_type": "markdown",
   "metadata": {},
   "source": [
    "The problem here is that I need to pass WKB to the get_walkability_data function.\n",
    "The output of 'get_location' needs to look like this: 0103000020110F00000100000008000000E1BE8922A4F052C0CCA9CA4BFEA54340B4B4BCA59CEA52C0133BA84C31A54340C8597329AEE852C0B61850AA7D9E4340D96CB28009EB52C0101E9EA04DA0434079D8D47ABFED52C035C4E4D18D9E4340FFFA51103CEF52C0A831E49997A14340A87A1A2E72F052C0450FE55608A14340E1BE8922A4F052C0CCA9CA4BFEA54340\n",
    "\n"
   ]
  },
  {
   "cell_type": "code",
   "execution_count": 7,
   "metadata": {},
   "outputs": [],
   "source": [
    "import logging\n",
    "from shapely.geometry import Point\n",
    "from shapely.wkb import dumps\n",
    "from geopy.geocoders import Nominatim\n",
    "from geopy.exc import GeocoderUnavailable\n",
    "from tenacity import retry, stop_after_attempt, wait_exponential, retry_if_exception_type\n",
    "from pyproj import Transformer\n",
    "import geopandas as gpd\n",
    "from shapely import wkb\n",
    "import streamlit as st\n",
    "import math\n",
    "\n",
    "# Retry configuration: 3 attempts with exponential backoff starting at 1 second\n",
    "@retry(stop=stop_after_attempt(3), wait=wait_exponential(multiplier=1, min=1, max=10), retry=retry_if_exception_type(GeocoderUnavailable))\n",
    "def get_location(location_string, user_agent=\"location_walkability_app\"):\n",
    "    geolocator = Nominatim(user_agent=user_agent)\n",
    "    location = geolocator.geocode(location_string, country_codes='us')\n",
    "\n",
    "    if location:\n",
    "        # Return coordinates in EPSG:4326 (longitude, latitude)\n",
    "        return location.longitude, location.latitude\n",
    "\n",
    "    logging.warning(\"Location not found\")\n",
    "    return None\n",
    "\n",
    "def miles_to_degrees(miles, latitude):\n",
    "    # Convert miles to degrees of latitude\n",
    "    degrees_latitude = miles / 69.0\n",
    "    \n",
    "    # Convert miles to degrees of longitude\n",
    "    degrees_longitude = miles / (69.0 * math.cos(math.radians(latitude)))\n",
    "    \n",
    "    return degrees_latitude, degrees_longitude\n",
    "\n",
    "def get_walkability_data(location_string, buffer_radius_miles, conn):\n",
    "    # Get the longitude and latitude from the get_location function\n",
    "    longitude, latitude = get_location(location_string)\n",
    "\n",
    "    # Convert miles to degrees\n",
    "    degrees_latitude, degrees_longitude = miles_to_degrees(buffer_radius_miles, latitude)\n",
    "\n",
    "    # Use the larger of the two degree values for the buffer radius\n",
    "    buffer_radius_degrees = max(degrees_latitude, degrees_longitude)\n",
    "\n",
    "    # Prepare the SQL query\n",
    "    query = \"\"\"\n",
    "            SELECT geoid20, natwalkind, geometry\n",
    "            FROM national_walkability_index\n",
    "            WHERE ST_DWithin(\n",
    "                st_setsrid(st_makepoint(:longitude, :latitude), 4326),\n",
    "                geometry,\n",
    "                :buffer_radius_degrees\n",
    "            );\n",
    "    \"\"\"\n",
    "\n",
    "    # Execute the query and fetch results\n",
    "    df = conn.query(\n",
    "        query,\n",
    "        ttl=\"10m\",  # Cache the result for 10 minutes\n",
    "        params={\"longitude\": longitude, \"latitude\": latitude, \"buffer_radius_degrees\": buffer_radius_degrees}\n",
    "    )\n",
    "\n",
    "    # Convert DataFrame to GeoDataFrame\n",
    "    gdf = gpd.GeoDataFrame(df, geometry=gpd.GeoSeries.from_wkb(df['geometry']))\n",
    "    gdf.set_crs(epsg=4326, inplace=True)\n",
    "\n",
    "\n",
    "    return gdf\n"
   ]
  },
  {
   "cell_type": "code",
   "execution_count": 8,
   "metadata": {},
   "outputs": [
    {
     "name": "stderr",
     "output_type": "stream",
     "text": [
      "DEBUG:urllib3.util.retry:Converted retries value: 2 -> Retry(total=2, connect=None, read=None, redirect=None, status=None)\n",
      "DEBUG:urllib3.util.retry:Converted retries value: 2 -> Retry(total=2, connect=None, read=None, redirect=None, status=None)\n"
     ]
    },
    {
     "name": "stderr",
     "output_type": "stream",
     "text": [
      "DEBUG:geopy:Nominatim.geocode: https://nominatim.openstreetmap.org/search?q=Knoxville%2C+TN&format=json&limit=1&countrycodes=us\n",
      "DEBUG:urllib3.connectionpool:Starting new HTTPS connection (1): nominatim.openstreetmap.org:443\n",
      "DEBUG:urllib3.connectionpool:https://nominatim.openstreetmap.org:443 \"GET /search?q=Knoxville%2C+TN&format=json&limit=1&countrycodes=us HTTP/11\" 200 467\n",
      "DEBUG:root:Coordinates for Knoxville, TN: (-83.9210261, 35.9603948)\n",
      "DEBUG:urllib3.util.retry:Converted retries value: 2 -> Retry(total=2, connect=None, read=None, redirect=None, status=None)\n",
      "DEBUG:urllib3.util.retry:Converted retries value: 2 -> Retry(total=2, connect=None, read=None, redirect=None, status=None)\n",
      "DEBUG:geopy:Nominatim.geocode: https://nominatim.openstreetmap.org/search?q=Knoxville%2C+TN&format=json&limit=1&countrycodes=us\n",
      "DEBUG:urllib3.connectionpool:Starting new HTTPS connection (1): nominatim.openstreetmap.org:443\n",
      "DEBUG:urllib3.connectionpool:https://nominatim.openstreetmap.org:443 \"GET /search?q=Knoxville%2C+TN&format=json&limit=1&countrycodes=us HTTP/11\" 200 467\n",
      "2024-08-15 12:25:32.108 No runtime found, using MemoryCacheStorageManager\n",
      "DEBUG:root:Walkability data:         geoid20  natwalkind                                           geometry\n",
      "0  470930066001       18.50  POLYGON ((-83.93796 35.98145, -83.93131 35.985...\n",
      "1  470930070001       16.17  POLYGON ((-83.94538 35.97442, -83.93503 35.976...\n",
      "2  470930069003       15.50  POLYGON ((-83.93649 35.96418, -83.92968 35.968...\n",
      "3  470930069001       14.67  POLYGON ((-83.93485 35.96098, -83.93067 35.962...\n",
      "4  470930009022       11.67  POLYGON ((-83.93667 35.95218, -83.93281 35.954...\n"
     ]
    }
   ],
   "source": [
    "import logging\n",
    "\n",
    "# Configure logging\n",
    "logging.basicConfig(level=logging.DEBUG)\n",
    "\n",
    "conn = st.connection(\"postgresql\", type=\"sql\")\n",
    "location_string = \"Knoxville, TN\"\n",
    "buffer_radius_miles = 1.0\n",
    "\n",
    "# Get coordinates\n",
    "coordinates = get_location(location_string)\n",
    "logging.debug(f'Coordinates for {location_string}: {coordinates}')\n",
    "\n",
    "# Call the get_walkability_data function\n",
    "try:\n",
    "    walkability_data = get_walkability_data(location_string, buffer_radius_miles, conn)\n",
    "    logging.debug(f'Walkability data: {walkability_data.head()}')\n",
    "except Exception as e:\n",
    "    logging.error(f'Error getting walkability data: {e}')"
   ]
  },
  {
   "cell_type": "code",
   "execution_count": 9,
   "metadata": {},
   "outputs": [
    {
     "data": {
      "text/html": [
       "<div>\n",
       "<style scoped>\n",
       "    .dataframe tbody tr th:only-of-type {\n",
       "        vertical-align: middle;\n",
       "    }\n",
       "\n",
       "    .dataframe tbody tr th {\n",
       "        vertical-align: top;\n",
       "    }\n",
       "\n",
       "    .dataframe thead th {\n",
       "        text-align: right;\n",
       "    }\n",
       "</style>\n",
       "<table border=\"1\" class=\"dataframe\">\n",
       "  <thead>\n",
       "    <tr style=\"text-align: right;\">\n",
       "      <th></th>\n",
       "      <th>geoid20</th>\n",
       "      <th>natwalkind</th>\n",
       "      <th>geometry</th>\n",
       "    </tr>\n",
       "  </thead>\n",
       "  <tbody>\n",
       "    <tr>\n",
       "      <th>0</th>\n",
       "      <td>470930066001</td>\n",
       "      <td>18.50</td>\n",
       "      <td>POLYGON ((-83.93796 35.98145, -83.93131 35.985...</td>\n",
       "    </tr>\n",
       "    <tr>\n",
       "      <th>1</th>\n",
       "      <td>470930070001</td>\n",
       "      <td>16.17</td>\n",
       "      <td>POLYGON ((-83.94538 35.97442, -83.93503 35.976...</td>\n",
       "    </tr>\n",
       "    <tr>\n",
       "      <th>2</th>\n",
       "      <td>470930069003</td>\n",
       "      <td>15.50</td>\n",
       "      <td>POLYGON ((-83.93649 35.96418, -83.92968 35.968...</td>\n",
       "    </tr>\n",
       "    <tr>\n",
       "      <th>3</th>\n",
       "      <td>470930069001</td>\n",
       "      <td>14.67</td>\n",
       "      <td>POLYGON ((-83.93485 35.96098, -83.93067 35.962...</td>\n",
       "    </tr>\n",
       "    <tr>\n",
       "      <th>4</th>\n",
       "      <td>470930009022</td>\n",
       "      <td>11.67</td>\n",
       "      <td>POLYGON ((-83.93667 35.95218, -83.93281 35.954...</td>\n",
       "    </tr>\n",
       "  </tbody>\n",
       "</table>\n",
       "</div>"
      ],
      "text/plain": [
       "        geoid20  natwalkind                                           geometry\n",
       "0  470930066001       18.50  POLYGON ((-83.93796 35.98145, -83.93131 35.985...\n",
       "1  470930070001       16.17  POLYGON ((-83.94538 35.97442, -83.93503 35.976...\n",
       "2  470930069003       15.50  POLYGON ((-83.93649 35.96418, -83.92968 35.968...\n",
       "3  470930069001       14.67  POLYGON ((-83.93485 35.96098, -83.93067 35.962...\n",
       "4  470930009022       11.67  POLYGON ((-83.93667 35.95218, -83.93281 35.954..."
      ]
     },
     "execution_count": 9,
     "metadata": {},
     "output_type": "execute_result"
    }
   ],
   "source": [
    "walkability_data.head()"
   ]
  },
  {
   "cell_type": "code",
   "execution_count": null,
   "metadata": {},
   "outputs": [],
   "source": []
  }
 ],
 "metadata": {
  "kernelspec": {
   "display_name": ".venv",
   "language": "python",
   "name": "python3"
  },
  "language_info": {
   "codemirror_mode": {
    "name": "ipython",
    "version": 3
   },
   "file_extension": ".py",
   "mimetype": "text/x-python",
   "name": "python",
   "nbconvert_exporter": "python",
   "pygments_lexer": "ipython3",
   "version": "3.12.0"
  }
 },
 "nbformat": 4,
 "nbformat_minor": 2
}
