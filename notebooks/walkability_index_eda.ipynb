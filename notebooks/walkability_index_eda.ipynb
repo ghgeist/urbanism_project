{
 "cells": [
  {
   "cell_type": "code",
   "execution_count": 1,
   "metadata": {},
   "outputs": [],
   "source": [
    "import geopandas as gpd"
   ]
  },
  {
   "cell_type": "code",
   "execution_count": 2,
   "metadata": {},
   "outputs": [
    {
     "data": {
      "text/html": [
       "<div>\n",
       "<style scoped>\n",
       "    .dataframe tbody tr th:only-of-type {\n",
       "        vertical-align: middle;\n",
       "    }\n",
       "\n",
       "    .dataframe tbody tr th {\n",
       "        vertical-align: top;\n",
       "    }\n",
       "\n",
       "    .dataframe thead th {\n",
       "        text-align: right;\n",
       "    }\n",
       "</style>\n",
       "<table border=\"1\" class=\"dataframe\">\n",
       "  <thead>\n",
       "    <tr style=\"text-align: right;\">\n",
       "      <th></th>\n",
       "      <th>GEOID10</th>\n",
       "      <th>GEOID20</th>\n",
       "      <th>STATEFP</th>\n",
       "      <th>COUNTYFP</th>\n",
       "      <th>TRACTCE</th>\n",
       "      <th>BLKGRPCE</th>\n",
       "      <th>CSA</th>\n",
       "      <th>CSA_Name</th>\n",
       "      <th>CBSA</th>\n",
       "      <th>CBSA_Name</th>\n",
       "      <th>...</th>\n",
       "      <th>D3B</th>\n",
       "      <th>D4A</th>\n",
       "      <th>D2A_Ranked</th>\n",
       "      <th>D2B_Ranked</th>\n",
       "      <th>D3B_Ranked</th>\n",
       "      <th>D4A_Ranked</th>\n",
       "      <th>NatWalkInd</th>\n",
       "      <th>Shape_Length</th>\n",
       "      <th>Shape_Area</th>\n",
       "      <th>geometry</th>\n",
       "    </tr>\n",
       "  </thead>\n",
       "  <tbody>\n",
       "    <tr>\n",
       "      <th>0</th>\n",
       "      <td>481130078254</td>\n",
       "      <td>481130078254</td>\n",
       "      <td>48</td>\n",
       "      <td>113</td>\n",
       "      <td>007825</td>\n",
       "      <td>4</td>\n",
       "      <td>206</td>\n",
       "      <td>Dallas-Fort Worth, TX-OK</td>\n",
       "      <td>19100</td>\n",
       "      <td>Dallas-Fort Worth-Arlington, TX</td>\n",
       "      <td>...</td>\n",
       "      <td>115.981747</td>\n",
       "      <td>362.1</td>\n",
       "      <td>6.0</td>\n",
       "      <td>14.0</td>\n",
       "      <td>15.0</td>\n",
       "      <td>17.0</td>\n",
       "      <td>14.0</td>\n",
       "      <td>3110.36082</td>\n",
       "      <td>297836.08309</td>\n",
       "      <td>MULTIPOLYGON (((-68983.316 1091325.734, -68981...</td>\n",
       "    </tr>\n",
       "  </tbody>\n",
       "</table>\n",
       "<p>1 rows × 30 columns</p>\n",
       "</div>"
      ],
      "text/plain": [
       "        GEOID10       GEOID20 STATEFP COUNTYFP TRACTCE BLKGRPCE  CSA  \\\n",
       "0  481130078254  481130078254      48      113  007825        4  206   \n",
       "\n",
       "                   CSA_Name   CBSA                        CBSA_Name  ...  \\\n",
       "0  Dallas-Fort Worth, TX-OK  19100  Dallas-Fort Worth-Arlington, TX  ...   \n",
       "\n",
       "          D3B    D4A  D2A_Ranked  D2B_Ranked  D3B_Ranked  D4A_Ranked  \\\n",
       "0  115.981747  362.1         6.0        14.0        15.0        17.0   \n",
       "\n",
       "   NatWalkInd  Shape_Length    Shape_Area  \\\n",
       "0        14.0    3110.36082  297836.08309   \n",
       "\n",
       "                                            geometry  \n",
       "0  MULTIPOLYGON (((-68983.316 1091325.734, -68981...  \n",
       "\n",
       "[1 rows x 30 columns]"
      ]
     },
     "execution_count": 2,
     "metadata": {},
     "output_type": "execute_result"
    }
   ],
   "source": [
    "file_path = r'data\\WalkabilityIndex\\Natl_WI.gdb'\n",
    "\n",
    "# Assuming gdf is already defined\n",
    "gdf = gpd.read_file(file_path)\n",
    "\n",
    "# Inspect the dataframe\n",
    "gdf.head(n=1)"
   ]
  },
  {
   "cell_type": "code",
   "execution_count": 3,
   "metadata": {},
   "outputs": [
    {
     "data": {
      "text/html": [
       "<div>\n",
       "<style scoped>\n",
       "    .dataframe tbody tr th:only-of-type {\n",
       "        vertical-align: middle;\n",
       "    }\n",
       "\n",
       "    .dataframe tbody tr th {\n",
       "        vertical-align: top;\n",
       "    }\n",
       "\n",
       "    .dataframe thead th {\n",
       "        text-align: right;\n",
       "    }\n",
       "</style>\n",
       "<table border=\"1\" class=\"dataframe\">\n",
       "  <thead>\n",
       "    <tr style=\"text-align: right;\">\n",
       "      <th></th>\n",
       "      <th>CBSA_Name</th>\n",
       "      <th>Count of Blocks</th>\n",
       "    </tr>\n",
       "  </thead>\n",
       "  <tbody>\n",
       "    <tr>\n",
       "      <th>604</th>\n",
       "      <td>New York-Newark-Jersey City, NY-NJ-PA</td>\n",
       "      <td>14376</td>\n",
       "    </tr>\n",
       "    <tr>\n",
       "      <th>498</th>\n",
       "      <td>Los Angeles-Long Beach-Anaheim, CA</td>\n",
       "      <td>8248</td>\n",
       "    </tr>\n",
       "    <tr>\n",
       "      <th>162</th>\n",
       "      <td>Chicago-Naperville-Elgin, IL-IN-WI</td>\n",
       "      <td>6590</td>\n",
       "    </tr>\n",
       "    <tr>\n",
       "      <th>664</th>\n",
       "      <td>Philadelphia-Camden-Wilmington, PA-NJ-DE-MD</td>\n",
       "      <td>4306</td>\n",
       "    </tr>\n",
       "    <tr>\n",
       "      <th>211</th>\n",
       "      <td>Dallas-Fort Worth-Arlington, TX</td>\n",
       "      <td>4128</td>\n",
       "    </tr>\n",
       "  </tbody>\n",
       "</table>\n",
       "</div>"
      ],
      "text/plain": [
       "                                       CBSA_Name  Count of Blocks\n",
       "604        New York-Newark-Jersey City, NY-NJ-PA            14376\n",
       "498           Los Angeles-Long Beach-Anaheim, CA             8248\n",
       "162           Chicago-Naperville-Elgin, IL-IN-WI             6590\n",
       "664  Philadelphia-Camden-Wilmington, PA-NJ-DE-MD             4306\n",
       "211              Dallas-Fort Worth-Arlington, TX             4128"
      ]
     },
     "execution_count": 3,
     "metadata": {},
     "output_type": "execute_result"
    }
   ],
   "source": [
    "# Count the GEOID20 per CBSA_Name. Convert to dataframe 'blocks\n",
    "blocks = gdf.groupby('CBSA_Name')['GEOID20'].count().reset_index()\n",
    "\n",
    "# Rename the columns\n",
    "blocks.columns = ['CBSA_Name', 'Count of Blocks']\n",
    "\n",
    "# Sort the values on 'Count of Blocks\n",
    "blocks = blocks.sort_values(by='Count of Blocks', ascending=False)\n",
    "blocks.head()"
   ]
  },
  {
   "cell_type": "code",
   "execution_count": 9,
   "metadata": {},
   "outputs": [
    {
     "data": {
      "text/plain": [
       "count    220739.000000\n",
       "mean          9.541667\n",
       "std           4.373924\n",
       "min           1.000000\n",
       "25%           5.833333\n",
       "50%           9.166667\n",
       "75%          13.166667\n",
       "max          20.000000\n",
       "Name: NatWalkInd, dtype: float64"
      ]
     },
     "execution_count": 9,
     "metadata": {},
     "output_type": "execute_result"
    }
   ],
   "source": [
    "# Interesting. the NatWalkIndex is on a scale of 1 to 20, not 0 to 100 like the WalkScore.\n",
    "gdf['NatWalkInd'].describe()"
   ]
  },
  {
   "cell_type": "code",
   "execution_count": 7,
   "metadata": {},
   "outputs": [
    {
     "data": {
      "text/html": [
       "<div>\n",
       "<style scoped>\n",
       "    .dataframe tbody tr th:only-of-type {\n",
       "        vertical-align: middle;\n",
       "    }\n",
       "\n",
       "    .dataframe tbody tr th {\n",
       "        vertical-align: top;\n",
       "    }\n",
       "\n",
       "    .dataframe thead th {\n",
       "        text-align: right;\n",
       "    }\n",
       "</style>\n",
       "<table border=\"1\" class=\"dataframe\">\n",
       "  <thead>\n",
       "    <tr style=\"text-align: right;\">\n",
       "      <th></th>\n",
       "      <th>NatWalkInd</th>\n",
       "    </tr>\n",
       "  </thead>\n",
       "  <tbody>\n",
       "    <tr>\n",
       "      <th>count</th>\n",
       "      <td>14376.000000</td>\n",
       "    </tr>\n",
       "    <tr>\n",
       "      <th>mean</th>\n",
       "      <td>12.582974</td>\n",
       "    </tr>\n",
       "    <tr>\n",
       "      <th>std</th>\n",
       "      <td>3.634793</td>\n",
       "    </tr>\n",
       "    <tr>\n",
       "      <th>min</th>\n",
       "      <td>1.000000</td>\n",
       "    </tr>\n",
       "    <tr>\n",
       "      <th>25%</th>\n",
       "      <td>10.333333</td>\n",
       "    </tr>\n",
       "    <tr>\n",
       "      <th>50%</th>\n",
       "      <td>13.333333</td>\n",
       "    </tr>\n",
       "    <tr>\n",
       "      <th>75%</th>\n",
       "      <td>15.333333</td>\n",
       "    </tr>\n",
       "    <tr>\n",
       "      <th>max</th>\n",
       "      <td>20.000000</td>\n",
       "    </tr>\n",
       "  </tbody>\n",
       "</table>\n",
       "</div>"
      ],
      "text/plain": [
       "         NatWalkInd\n",
       "count  14376.000000\n",
       "mean      12.582974\n",
       "std        3.634793\n",
       "min        1.000000\n",
       "25%       10.333333\n",
       "50%       13.333333\n",
       "75%       15.333333\n",
       "max       20.000000"
      ]
     },
     "execution_count": 7,
     "metadata": {},
     "output_type": "execute_result"
    }
   ],
   "source": [
    "# Show me the NatWalkIndex for CBSA_Name 'New York-Newark-Jersey City, NY-NJ-PA'\n",
    "nyc_walk = gdf[gdf['CBSA_Name'] == 'New York-Newark-Jersey City, NY-NJ-PA'][['NatWalkInd']].reset_index(drop=True)\n",
    "nyc_walk.describe()"
   ]
  },
  {
   "cell_type": "code",
   "execution_count": null,
   "metadata": {},
   "outputs": [],
   "source": []
  }
 ],
 "metadata": {
  "kernelspec": {
   "display_name": ".venv",
   "language": "python",
   "name": "python3"
  },
  "language_info": {
   "codemirror_mode": {
    "name": "ipython",
    "version": 3
   },
   "file_extension": ".py",
   "mimetype": "text/x-python",
   "name": "python",
   "nbconvert_exporter": "python",
   "pygments_lexer": "ipython3",
   "version": "3.12.0"
  }
 },
 "nbformat": 4,
 "nbformat_minor": 2
}
