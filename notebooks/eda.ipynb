{
 "cells": [
  {
   "cell_type": "code",
   "execution_count": 3,
   "metadata": {},
   "outputs": [],
   "source": [
    "import numpy as np\n",
    "import pandas as pd\n",
    "import matplotlib.pyplot as plt\n",
    "import geopandas as gpd\n",
    "import contextily as ctx\n",
    "import os"
   ]
  },
  {
   "cell_type": "code",
   "execution_count": 4,
   "metadata": {},
   "outputs": [
    {
     "data": {
      "text/html": [
       "<div>\n",
       "<style scoped>\n",
       "    .dataframe tbody tr th:only-of-type {\n",
       "        vertical-align: middle;\n",
       "    }\n",
       "\n",
       "    .dataframe tbody tr th {\n",
       "        vertical-align: top;\n",
       "    }\n",
       "\n",
       "    .dataframe thead th {\n",
       "        text-align: right;\n",
       "    }\n",
       "</style>\n",
       "<table border=\"1\" class=\"dataframe\">\n",
       "  <thead>\n",
       "    <tr style=\"text-align: right;\">\n",
       "      <th></th>\n",
       "      <th>GEOID10</th>\n",
       "      <th>GEOID20</th>\n",
       "      <th>STATEFP</th>\n",
       "      <th>COUNTYFP</th>\n",
       "      <th>TRACTCE</th>\n",
       "      <th>BLKGRPCE</th>\n",
       "      <th>CSA</th>\n",
       "      <th>CSA_Name</th>\n",
       "      <th>CBSA</th>\n",
       "      <th>CBSA_Name</th>\n",
       "      <th>...</th>\n",
       "      <th>D3B</th>\n",
       "      <th>D4A</th>\n",
       "      <th>D2A_Ranked</th>\n",
       "      <th>D2B_Ranked</th>\n",
       "      <th>D3B_Ranked</th>\n",
       "      <th>D4A_Ranked</th>\n",
       "      <th>NatWalkInd</th>\n",
       "      <th>Shape_Length</th>\n",
       "      <th>Shape_Area</th>\n",
       "      <th>geometry</th>\n",
       "    </tr>\n",
       "  </thead>\n",
       "  <tbody>\n",
       "    <tr>\n",
       "      <th>0</th>\n",
       "      <td>481130078254</td>\n",
       "      <td>481130078254</td>\n",
       "      <td>48</td>\n",
       "      <td>113</td>\n",
       "      <td>007825</td>\n",
       "      <td>4</td>\n",
       "      <td>206</td>\n",
       "      <td>Dallas-Fort Worth, TX-OK</td>\n",
       "      <td>19100</td>\n",
       "      <td>Dallas-Fort Worth-Arlington, TX</td>\n",
       "      <td>...</td>\n",
       "      <td>115.981747</td>\n",
       "      <td>362.1</td>\n",
       "      <td>6.0</td>\n",
       "      <td>14.0</td>\n",
       "      <td>15.0</td>\n",
       "      <td>17.0</td>\n",
       "      <td>14.0</td>\n",
       "      <td>3110.36082</td>\n",
       "      <td>297836.08309</td>\n",
       "      <td>MULTIPOLYGON (((-68983.316 1091325.734, -68981...</td>\n",
       "    </tr>\n",
       "  </tbody>\n",
       "</table>\n",
       "<p>1 rows × 30 columns</p>\n",
       "</div>"
      ],
      "text/plain": [
       "        GEOID10       GEOID20 STATEFP COUNTYFP TRACTCE BLKGRPCE  CSA  \\\n",
       "0  481130078254  481130078254      48      113  007825        4  206   \n",
       "\n",
       "                   CSA_Name   CBSA                        CBSA_Name  ...  \\\n",
       "0  Dallas-Fort Worth, TX-OK  19100  Dallas-Fort Worth-Arlington, TX  ...   \n",
       "\n",
       "          D3B    D4A  D2A_Ranked  D2B_Ranked  D3B_Ranked  D4A_Ranked  \\\n",
       "0  115.981747  362.1         6.0        14.0        15.0        17.0   \n",
       "\n",
       "   NatWalkInd  Shape_Length    Shape_Area  \\\n",
       "0        14.0    3110.36082  297836.08309   \n",
       "\n",
       "                                            geometry  \n",
       "0  MULTIPOLYGON (((-68983.316 1091325.734, -68981...  \n",
       "\n",
       "[1 rows x 30 columns]"
      ]
     },
     "execution_count": 4,
     "metadata": {},
     "output_type": "execute_result"
    }
   ],
   "source": [
    "file_path = r'data\\WalkabilityIndex\\Natl_WI.gdb'\n",
    "\n",
    "# Assuming gdf is already defined\n",
    "gdf = gpd.read_file(file_path)\n",
    "\n",
    "# Inspect the dataframe\n",
    "gdf.head(n=1)"
   ]
  },
  {
   "cell_type": "code",
   "execution_count": 16,
   "metadata": {},
   "outputs": [
    {
     "name": "stdout",
     "output_type": "stream",
     "text": [
      "GeoDataFrame size: 151.09 MB\n"
     ]
    }
   ],
   "source": [
    "# Calculate the memory usage in bytes and convert to megabytes\n",
    "memory_usage_bytes = gdf.memory_usage(deep=True).sum()\n",
    "memory_usage_mb = memory_usage_bytes / (1024 ** 2)\n",
    "\n",
    "print(f\"GeoDataFrame size: {memory_usage_mb:.2f} MB\")"
   ]
  },
  {
   "cell_type": "code",
   "execution_count": 1,
   "metadata": {},
   "outputs": [],
   "source": [
    "# fig, ax = plt.subplots(figsize=(10, 10))\n",
    "# gdf.plot(column='NatWalkInd', ax=ax, legend=True, cmap='OrRd', legend_kwds={'label': \"Walkability Score\", 'orientation': \"horizontal\"})\n",
    "# plt.title(\"Walkability Score Map\")\n",
    "# plt.show()"
   ]
  },
  {
   "cell_type": "code",
   "execution_count": null,
   "metadata": {},
   "outputs": [],
   "source": []
  }
 ],
 "metadata": {
  "kernelspec": {
   "display_name": ".venv",
   "language": "python",
   "name": "python3"
  },
  "language_info": {
   "codemirror_mode": {
    "name": "ipython",
    "version": 3
   },
   "file_extension": ".py",
   "mimetype": "text/x-python",
   "name": "python",
   "nbconvert_exporter": "python",
   "pygments_lexer": "ipython3",
   "version": "3.12.0"
  }
 },
 "nbformat": 4,
 "nbformat_minor": 2
}
